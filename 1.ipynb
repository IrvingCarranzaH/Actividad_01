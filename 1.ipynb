{
  "nbformat": 4,
  "nbformat_minor": 0,
  "metadata": {
    "colab": {
      "name": "1.ipynb",
      "provenance": []
    },
    "kernelspec": {
      "name": "python3",
      "display_name": "Python 3"
    }
  },
  "cells": [
    {
      "cell_type": "markdown",
      "metadata": {
        "id": "CA7QtkkX5EdE"
      },
      "source": [
        "# 1. Desarrollar un programa que lea una variable de tipo entera value, indique si es un numero par o impar.\n"
      ]
    },
    {
      "cell_type": "code",
      "metadata": {
        "id": "LPNbE-VM69OW"
      },
      "source": [
        "n = int(input(\"Introduzca un número: \"))\n",
        "if n%2 == 0:\n",
        "  print(\"Su numero es par\")\n",
        "else:\n",
        "  print(\"Su número es impar\")\n"
      ],
      "execution_count": null,
      "outputs": []
    }
  ]
}