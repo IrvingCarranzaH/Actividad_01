{
  "nbformat": 4,
  "nbformat_minor": 0,
  "metadata": {
    "colab": {
      "name": "10.ipynb",
      "provenance": [],
      "collapsed_sections": []
    },
    "kernelspec": {
      "name": "python3",
      "display_name": "Python 3"
    }
  },
  "cells": [
    {
      "cell_type": "markdown",
      "metadata": {
        "id": "_G2vabW4Wx2g"
      },
      "source": [
        "# Escribir una función que calcule el área de un círculo y otra que calcule el volumen de un cilindro utilizando la primera función."
      ]
    },
    {
      "cell_type": "code",
      "metadata": {
        "id": "oSnhEqcnWvRN"
      },
      "source": [
        "pi = 3.1416\n",
        "\n",
        "def volumen_cilindro(r, h):\n",
        "    volumen = pi * r ** 2 * h\n",
        "    print(\"El volumen es: \",volumen)\n",
        "    \n",
        "def area_cilindro(r, h):\n",
        "    area = 2 * pi * r **2 + 2 * pi * r * h\n",
        "    print(\"El area es: \",area)\n",
        "\n",
        "r=float(input(\"Ingrese el radio: \"))\n",
        "h=float(input(\"Ingrese la altura: \"))\n",
        "\n",
        "volumen_cilindro(r, h)\n",
        "area_cilindro(r, h)\n",
        "\n",
        "\n",
        "\n",
        "\n"
      ],
      "execution_count": null,
      "outputs": []
    }
  ]
}