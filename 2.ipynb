{
  "nbformat": 4,
  "nbformat_minor": 0,
  "metadata": {
    "colab": {
      "name": "2.ipynb",
      "provenance": [],
      "collapsed_sections": []
    },
    "kernelspec": {
      "name": "python3",
      "display_name": "Python 3"
    }
  },
  "cells": [
    {
      "cell_type": "markdown",
      "metadata": {
        "id": "SwMa6-gjwrsm"
      },
      "source": [
        "# Desarrolle un programa en el que el usuario introduzca una cadena de caracteres y un número entero, despues el programa debe de imprimir la cadena de caracteres tantas veces como el número entero\n"
      ]
    },
    {
      "cell_type": "code",
      "metadata": {
        "id": "L0O4pGIiwm1Z"
      },
      "source": [
        "c=str(input(\"Ingrese una frase: \"))\n",
        "n=int(input(\"¿Cuántas veces quiere que se repita? \"))\n",
        "\n",
        "for i in range(n):\n",
        "  print(\"\",c,end=\"\")\n",
        "  print()\n",
        "\n"
      ],
      "execution_count": null,
      "outputs": []
    }
  ]
}