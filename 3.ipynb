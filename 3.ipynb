{
  "nbformat": 4,
  "nbformat_minor": 0,
  "metadata": {
    "colab": {
      "name": "3.ipynb",
      "provenance": [],
      "collapsed_sections": []
    },
    "kernelspec": {
      "name": "python3",
      "display_name": "Python 3"
    }
  },
  "cells": [
    {
      "cell_type": "markdown",
      "metadata": {
        "id": "YTByGCUv8Zd6"
      },
      "source": [
        "# Escribir una función que reciba como argumentos el número de horas y el costo por hora dejarlo como argumento predefinido en 150 la función debe de regresar el pago del empleado en un día, en una semana (5 días) y en un mes (20 días)."
      ]
    },
    {
      "cell_type": "code",
      "metadata": {
        "id": "QEinrm7o8Y4T"
      },
      "source": [
        "def pago():\n",
        "    d=150*hora\n",
        "    c=d*5\n",
        "    v=d*20\n",
        "    print(\"Pago en un día: \",d)\n",
        "    print(\"Pago 5 días: \",c)\n",
        "    print(\"Pago 20 días: \",v)\n",
        "  \n",
        "hora=int(input(\"Ingrese el número de horas: \"))\n",
        "pago()\n",
        "  \n",
        "\n",
        "\n"
      ],
      "execution_count": null,
      "outputs": []
    }
  ]
}