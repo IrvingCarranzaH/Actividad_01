{
  "nbformat": 4,
  "nbformat_minor": 0,
  "metadata": {
    "colab": {
      "name": "4.ipynb",
      "provenance": [],
      "collapsed_sections": []
    },
    "kernelspec": {
      "name": "python3",
      "display_name": "Python 3"
    }
  },
  "cells": [
    {
      "cell_type": "markdown",
      "metadata": {
        "id": "ofNVadfw7b8T"
      },
      "source": [
        "# Escribir el código de una calculadora, que inicialmente muestre el menú y dependiendo de la opción elegida por el usuario se desarrolle la operación, observe que en la división el denominador no puede ser cero, en caso que sea así, debe de entrar en un bucle while que este leyendo el denominador de nuevo hasta que éste sea distinto de cero"
      ]
    },
    {
      "cell_type": "code",
      "metadata": {
        "id": "h3chqUgF5phG"
      },
      "source": [
        "b=float(input(\"Ingrese un valor: \"))\n",
        "c=float(input(\"Ingrese el segundo valor: \"))\n",
        "\n",
        "suma = b+c\n",
        "resta = b-c\n",
        "multiplicacion = b*c\n",
        "division = b/c\n",
        "\n",
        "print(\"\\n a.suma\\n b.resta\\n c.multiplicacion\\n d.division\\n\")\n",
        "\n",
        "a = input(\"Eliga una opcion (a,b,c,d): \")\n",
        "\n",
        "if a == \"a\":\n",
        " print(suma)\n",
        "\n",
        "else:\n",
        "  if a == \"b\":\n",
        "   print(resta)\n",
        "\n",
        "  else:\n",
        "    if a == \"c\":\n",
        "     print(multiplicacion)\n",
        "\n",
        "    else:\n",
        "      if a == \"d\":\n",
        "        while (c == 0):\n",
        "         print(\"No se puede dividir entre 0 \")\n",
        "      print(division)\n",
        "      "
      ],
      "execution_count": null,
      "outputs": []
    }
  ]
}