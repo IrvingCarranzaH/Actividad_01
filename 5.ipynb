{
  "nbformat": 4,
  "nbformat_minor": 0,
  "metadata": {
    "colab": {
      "name": "5.ipynb",
      "provenance": [],
      "collapsed_sections": []
    },
    "kernelspec": {
      "name": "python3",
      "display_name": "Python 3"
    }
  },
  "cells": [
    {
      "cell_type": "markdown",
      "metadata": {
        "id": "7AHOB2a5ZG1c"
      },
      "source": [
        "# Una tienda de juguetes tiene dos productos estrella, un payaso y un juego de mesa, el payaso pesa 150 gr. y el juego de mesa pesa 170 gr. Hacer una función que reciba el número de payasos y el número de juegos de mesa por pedido, si el peso total del pedido es mayor a 10 kg, debe de mandar error, debe de inidicar por cúantos gramos se pasó el envío y debe de regresar False al programa principal.\n"
      ]
    },
    {
      "cell_type": "code",
      "metadata": {
        "id": "8gY-DbDrY_nB"
      },
      "source": [
        "def Pedido_Juguetes():\n",
        "  peso = c+d\n",
        "  t = peso - 10000\n",
        "  if peso > 10000:\n",
        "    print(\"Usted se paso por: \",t)\n",
        "    print(\"False\")\n",
        "  return\n",
        "\n",
        "a=int(input(\"Ingrese el número de payasos: \"))\n",
        "c=a*150\n",
        "b=int(input(\"Ingrese el número de juegos de mesas: \"))\n",
        "d=b*170\n",
        "\n",
        "Pedido_Juguetes()\n",
        "\n",
        "\n",
        "\n",
        "    \n"
      ],
      "execution_count": null,
      "outputs": []
    }
  ]
}