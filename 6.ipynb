{
  "nbformat": 4,
  "nbformat_minor": 0,
  "metadata": {
    "colab": {
      "name": "6.ipynb",
      "provenance": [],
      "collapsed_sections": []
    },
    "kernelspec": {
      "name": "python3",
      "display_name": "Python 3"
    }
  },
  "cells": [
    {
      "cell_type": "markdown",
      "metadata": {
        "id": "OKagbMaWE1ws"
      },
      "source": [
        "# Suponga que el impuesto que se debe de pagar por el salario ganado este regido por la siguiente tabla:\n",
        "        \n",
        "        Ingresos                  Impuesto\n",
        "        Menos de 10 mil             5%\n",
        "        Entre 10 mil y 15 mil      10%\n",
        "        Entre 15 mil y 20 mil      15%\n",
        "        Más de 20 mil              18%\n",
        "\n",
        "# Desarrolle una función que acepte como argumento el salario, y la función debe de mostrar el rango en que se encuentra, y debe de regresar el salario con el descuento del impuesto, si la función se ha podido desarrollar con éxito, debe de regresar True\n"
      ]
    },
    {
      "cell_type": "code",
      "metadata": {
        "id": "EpcoOaxMEEdR"
      },
      "source": [
        "def salario():\n",
        "  if s <= 10000:\n",
        "     sp = s*.05\n",
        "     st = s-sp\n",
        "     print(\"Se encuentra en el rango: Menos de 10 mil\")\n",
        "     print(\"Su slario con impuesto es: \",st)\n",
        "\n",
        "  else:\n",
        "    if s > 10000 and s < 15000 :\n",
        "     sp2 = s*.1\n",
        "     sp2t = s-sp2\n",
        "     print(\"Se encuentra en el rango: Entre 10 mil y 15 mil\")\n",
        "     print(\"Su slario con impuesto es: \", sp2t)\n",
        "\n",
        "    else:\n",
        "      if s >= 15000 and s < 20000: \n",
        "        sp3 = s*.15\n",
        "        sp3t = s-sp3\n",
        "        print(\"Se encuentra en el rango: Entre 15 mil y 20 mil\")\n",
        "        print(\"Su slario con impuesto es: \",sp3t)\n",
        "\n",
        "      else:\n",
        "        if s >= 20000:\n",
        "         sp4 = s*.18\n",
        "         sp4t = s-sp4\n",
        "         print(\"Se encuentra en el rango: Mas de 20 mil\")\n",
        "         print(\"Su slario con impuesto es: \",sp4t)\n",
        "\n",
        "  print(\"True\")\n",
        "  return\n",
        "\n",
        "s=float(input(\"Ingrese su salario: \"))\n",
        "\n",
        "salario()"
      ],
      "execution_count": null,
      "outputs": []
    }
  ]
}