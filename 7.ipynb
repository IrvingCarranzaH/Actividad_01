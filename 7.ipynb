{
  "nbformat": 4,
  "nbformat_minor": 0,
  "metadata": {
    "colab": {
      "name": "7.ipynb",
      "provenance": [],
      "collapsed_sections": []
    },
    "kernelspec": {
      "name": "python3",
      "display_name": "Python 3"
    }
  },
  "cells": [
    {
      "cell_type": "markdown",
      "metadata": {
        "id": "EgqTB8YjFUlU"
      },
      "source": [
        "# Escribir un programa para un museo, donde se deben de mandar a una función los siguientes parámetros, edad y ocupación. Se deben de aplicar los siguintes costos y descuentos\n",
        "\n",
        "    Rango de edad                       Impuesto\n",
        "    Menor de cuatro añoos                Gratis\n",
        "    Entre 4 y 16 años                    $50\n",
        "    Adultos                              $100\n",
        "\n",
        "    Concepto                            Impuesto\n",
        "    Estudiante con credencial            10%\n",
        "    Docente con credencial               30%\n",
        "    INAPAM                               50%\n",
        "\n",
        "\n"
      ]
    },
    {
      "cell_type": "code",
      "metadata": {
        "id": "t32H7I4kFPnn"
      },
      "source": [
        "def museo():\n",
        "  if e < 4:\n",
        "   print(\"Menor de cuatro años\") \n",
        "   print(\"Pasa gratis\")\n",
        "    \n",
        "  else:\n",
        "    if e >=4 and e <= 16:\n",
        "      print(\"Debe pagar $50\")\n",
        "      if q == \"a\":\n",
        "       p = 50 * .10\n",
        "       p1 = 50 - p\n",
        "       print(\"Precio con descuento: \",p1)\n",
        "    else:\n",
        "      if e > 16 and q == \"a\":\n",
        "         print(\"Debe pagar $100\")\n",
        "         p4 = 100 * .10\n",
        "         p5 = 100 - p4\n",
        "         print(\"Precio con descuento: \",p5)\n",
        "      else: \n",
        "           if e > 16 and q == \"b\":\n",
        "            p2 = 100 * .30\n",
        "            p2t = 100 - p2\n",
        "            print(\"Precio con descuento: \",p2t)\n",
        "           else:\n",
        "              if e > 16 and q == \"c\":\n",
        "               p3 = 100 * .50\n",
        "               p3t = 100 - p3\n",
        "               print(\"Precio con descuento: \",p3t)\n",
        "              else:\n",
        "                if e > 16 and q == \"d\":\n",
        "                 print(\"Debe pagar $100\") \n",
        "\n",
        "\n",
        "       \n",
        "\n",
        "e = int(input(\"Ingrese su edad: \"))\n",
        "print(\"\\n a.Estudiante con credencial\\n b.Docente con credencial\\n c.INAPAM\\n d.Ninguna\\n\")\n",
        "q = str(input(\"Ingrese su ocupacion (a,b,c,d): \"))\n",
        "\n",
        "museo()\n",
        "\n"
      ],
      "execution_count": null,
      "outputs": []
    }
  ]
}