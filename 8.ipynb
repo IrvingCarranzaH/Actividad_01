{
  "nbformat": 4,
  "nbformat_minor": 0,
  "metadata": {
    "colab": {
      "name": "8.ipynb",
      "provenance": [],
      "collapsed_sections": []
    },
    "kernelspec": {
      "name": "python3",
      "display_name": "Python 3"
    }
  },
  "cells": [
    {
      "cell_type": "markdown",
      "metadata": {
        "id": "Hx8j6zkR5CSv"
      },
      "source": [
        "# Escribir un programa que pida al usuario un número entero y muestre en pantalla un tríangulo rectángulo el que se muestra. Ejemplo: si el usuario ha introducido 4 se debe de mostrar el siguiente patrón\n",
        "# *\n",
        "# **\n",
        "# ***\n",
        "# ****"
      ]
    },
    {
      "cell_type": "code",
      "metadata": {
        "id": "B_QfUNC54TKD"
      },
      "source": [
        "r=int(input(\"Ingrese un número: \"))\n",
        "for i in range (r+1):\n",
        "  print('*'*i)\n"
      ],
      "execution_count": null,
      "outputs": []
    }
  ]
}