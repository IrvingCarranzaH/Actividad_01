{
  "nbformat": 4,
  "nbformat_minor": 0,
  "metadata": {
    "colab": {
      "name": "9.ipynb",
      "provenance": [],
      "collapsed_sections": []
    },
    "kernelspec": {
      "name": "python3",
      "display_name": "Python 3"
    }
  },
  "cells": [
    {
      "cell_type": "markdown",
      "metadata": {
        "id": "MRhYruw1TKX5"
      },
      "source": [
        "# Escribir una función que reciba un número entero positivo y devuelva su factorial"
      ]
    },
    {
      "cell_type": "code",
      "metadata": {
        "id": "2jd6VJrQSNl1"
      },
      "source": [
        "def factorial():\n",
        "  f=1\n",
        "  x=int(input(\"Ingrese un número entero: \"))\n",
        "  for i in range (1,x+1):\n",
        "    f=f*i\n",
        "  print(\"El factorial de ese número es:\",f)\n",
        "\n",
        "factorial()\n"
      ],
      "execution_count": null,
      "outputs": []
    }
  ]
}